{
 "cells": [
  {
   "cell_type": "code",
   "execution_count": 1,
   "id": "1cb058d5-43c5-49e1-b79d-11745490316a",
   "metadata": {
    "ExecutionIndicator": {
     "show": true
    },
    "execution": {
     "iopub.execute_input": "2024-04-17T02:02:46.630330Z",
     "iopub.status.busy": "2024-04-17T02:02:46.630104Z",
     "iopub.status.idle": "2024-04-17T02:02:46.633369Z",
     "shell.execute_reply": "2024-04-17T02:02:46.633007Z",
     "shell.execute_reply.started": "2024-04-17T02:02:46.630314Z"
    },
    "tags": []
   },
   "outputs": [],
   "source": [
    "# !python ./cars_train.py"
   ]
  },
  {
   "cell_type": "code",
   "execution_count": 2,
   "id": "bd202bd9-cacd-4264-9940-1fda7e8c0f25",
   "metadata": {
    "execution": {
     "iopub.execute_input": "2024-04-17T02:02:46.634238Z",
     "iopub.status.busy": "2024-04-17T02:02:46.633941Z",
     "iopub.status.idle": "2024-04-17T02:02:48.626641Z",
     "shell.execute_reply": "2024-04-17T02:02:48.626129Z",
     "shell.execute_reply.started": "2024-04-17T02:02:46.634224Z"
    },
    "tags": []
   },
   "outputs": [],
   "source": [
    "from ultralytics import YOLO"
   ]
  },
  {
   "cell_type": "code",
   "execution_count": 3,
   "id": "3546755c-4eed-433c-b894-d2a1364ff438",
   "metadata": {
    "execution": {
     "iopub.execute_input": "2024-04-17T02:02:48.627566Z",
     "iopub.status.busy": "2024-04-17T02:02:48.627276Z",
     "iopub.status.idle": "2024-04-17T02:02:49.260987Z",
     "shell.execute_reply": "2024-04-17T02:02:49.260375Z",
     "shell.execute_reply.started": "2024-04-17T02:02:48.627547Z"
    },
    "tags": []
   },
   "outputs": [],
   "source": [
    "model = YOLO(model=\"yolov8n.yaml\")\n",
    "\n"
   ]
  },
  {
   "cell_type": "code",
   "execution_count": null,
   "id": "a2d2e90c-b472-4164-805c-e9fd72e8a9e6",
   "metadata": {
    "ExecutionIndicator": {
     "show": true
    },
    "execution": {
     "iopub.execute_input": "2024-04-17T02:02:49.262494Z",
     "iopub.status.busy": "2024-04-17T02:02:49.262240Z"
    },
    "tags": []
   },
   "outputs": [
    {
     "name": "stdout",
     "output_type": "stream",
     "text": [
      "Ultralytics YOLOv8.1.47 🚀 Python-3.10.13 torch-2.1.2+cpu CPU (Intel Xeon Platinum 8369B 2.70GHz)\n",
      "\u001b[34m\u001b[1mengine/trainer: \u001b[0mtask=detect, mode=train, model=yolov8n.yaml, data=cars_v2.yaml, epochs=20000, time=None, patience=300, batch=32, imgsz=[1280, 720], save=True, save_period=-1, cache=False, device=None, workers=8, project=None, name=train, exist_ok=False, pretrained=True, optimizer=auto, verbose=True, seed=0, deterministic=True, single_cls=False, rect=False, cos_lr=True, close_mosaic=2, resume=False, amp=True, fraction=1.0, profile=False, freeze=None, multi_scale=False, overlap_mask=True, mask_ratio=3, dropout=0.4, val=True, split=val, save_json=False, save_hybrid=False, conf=None, iou=0.7, max_det=300, half=False, dnn=False, plots=True, source=None, vid_stride=1, stream_buffer=False, visualize=False, augment=False, agnostic_nms=False, classes=None, retina_masks=True, embed=None, show=False, save_frames=False, save_txt=False, save_conf=False, save_crop=False, show_labels=True, show_conf=True, show_boxes=True, line_width=None, format=torchscript, keras=False, optimize=False, int8=False, dynamic=False, simplify=False, opset=None, workspace=4, nms=False, lr0=1e-05, lrf=0.001, momentum=0.937, weight_decay=0.0005, warmup_epochs=3.0, warmup_momentum=0.8, warmup_bias_lr=0.1, box=7.5, cls=0.5, dfl=1.5, pose=12.0, kobj=1.0, label_smoothing=0.0, nbs=64, hsv_h=0.015, hsv_s=0.7, hsv_v=0.4, degrees=0.0, translate=0.1, scale=0.5, shear=0.0, perspective=0.0, flipud=0.0, fliplr=0.5, bgr=0.0, mosaic=0.8, mixup=0.0, copy_paste=0.0, auto_augment=randaugment, erasing=0.4, crop_fraction=1.0, cfg=None, tracker=botsort.yaml, save_dir=runs/detect/train\n",
      "Downloading https://ultralytics.com/assets/Arial.ttf to '/root/.config/Ultralytics/Arial.ttf'...\n"
     ]
    },
    {
     "name": "stderr",
     "output_type": "stream",
     "text": [
      " 91%|█████████ | 688k/755k [01:36<00:10, 6.28kB/s] "
     ]
    }
   ],
   "source": [
    "results = model.train(data='cars_v2.yaml',\n",
    "                      epochs=20000, \n",
    "                      imgsz=[1280,720], \n",
    "                      batch=32,\n",
    "                      cos_lr=True,\n",
    "                      lr0=0.00001,\n",
    "                      lrf=0.001,\n",
    "                      dropout=0.4,\n",
    "                      patience=300,\n",
    "                      mosaic=0.8,\n",
    "                      mask_ratio=3,\n",
    "                      retina_masks=True,\n",
    "                      close_mosaic=2)"
   ]
  },
  {
   "cell_type": "code",
   "execution_count": null,
   "id": "38d31ee2-e052-4813-8ef9-b51a9dc5abed",
   "metadata": {},
   "outputs": [],
   "source": []
  }
 ],
 "metadata": {
  "kernelspec": {
   "display_name": "Python 3 (ipykernel)",
   "language": "python",
   "name": "python3"
  },
  "language_info": {
   "codemirror_mode": {
    "name": "ipython",
    "version": 3
   },
   "file_extension": ".py",
   "mimetype": "text/x-python",
   "name": "python",
   "nbconvert_exporter": "python",
   "pygments_lexer": "ipython3",
   "version": "3.10.13"
  }
 },
 "nbformat": 4,
 "nbformat_minor": 5
}
