{
 "cells": [
  {
   "cell_type": "markdown",
   "metadata": {},
   "source": [
    "### 引入库"
   ]
  },
  {
   "cell_type": "code",
   "execution_count": 2,
   "metadata": {},
   "outputs": [],
   "source": [
    "import os\n",
    "import torch"
   ]
  },
  {
   "cell_type": "markdown",
   "metadata": {},
   "source": [
    "### 准备数据集\n",
    "- 收集数据集\n",
    "- 创建类别列表\n",
    "- 将数据转换成YOLO格式：\n",
    "  - 将图片和标签分别保存到images和labels文件夹中；\n",
    "  - 将标签文件转换成txt文件，格式为：  \n",
    "  `class_id x_center_normalized y_center_normalized width_normalized height_normalized`"
   ]
  },
  {
   "cell_type": "code",
   "execution_count": null,
   "metadata": {},
   "outputs": [],
   "source": []
  },
  {
   "cell_type": "code",
   "execution_count": null,
   "metadata": {},
   "outputs": [],
   "source": []
  },
  {
   "cell_type": "markdown",
   "metadata": {},
   "source": [
    "### 配置YOLO模型\n",
    "- 下载 YOLOv8\n",
    "- 配置模型参数：修改yolov8n.yaml 文件中的类别数量和图片大小等信息。\n"
   ]
  },
  {
   "cell_type": "code",
   "execution_count": null,
   "metadata": {},
   "outputs": [],
   "source": []
  },
  {
   "cell_type": "code",
   "execution_count": null,
   "metadata": {},
   "outputs": [],
   "source": []
  },
  {
   "cell_type": "markdown",
   "metadata": {},
   "source": [
    "### 训练模型\n",
    "- 准备一个训练脚本 train.py  \n",
    "- 创建数据集描述文件：data.yaml  \n",
    "- 执行训练：  \n",
    "  `python train.py --data data.yaml --cfg models/yolov8n.yaml --weights '' --batch-size 16 --epochs 50`  \n"
   ]
  },
  {
   "cell_type": "code",
   "execution_count": null,
   "metadata": {},
   "outputs": [],
   "source": []
  },
  {
   "cell_type": "code",
   "execution_count": null,
   "metadata": {},
   "outputs": [],
   "source": []
  },
  {
   "cell_type": "markdown",
   "metadata": {},
   "source": [
    "### 评估模型\n",
    "- 测试模型：使用测试集对模型进行评估，可以使用 test.py 脚本：  \n",
    "`python test.py --data data.yaml --cfg models/yolov8n.yaml --weights /path/to/best/weights.pt`  \n",
    "- 查看结果：在评估结束后，你将得到模型在测试集上的性能指标和可视化结果。  "
   ]
  },
  {
   "cell_type": "code",
   "execution_count": null,
   "metadata": {},
   "outputs": [],
   "source": []
  },
  {
   "cell_type": "code",
   "execution_count": null,
   "metadata": {},
   "outputs": [],
   "source": []
  },
  {
   "cell_type": "markdown",
   "metadata": {},
   "source": [
    "### 推理\n",
    "- 加载模型：使用训练后的权重文件进行推理，可以使用 detect.py 脚本：  \n",
    "`python detect.py --source path/to/images --weights /path/to/best/weights.pt --conf 0.4 --save-txt`  \n",
    "这将在指定路径的图像上运行模型，并保存检测结果到 runs/detect 目录下的 .txt 文件中。  \n",
    "\n",
    "- 可视化结果：你可以编写代码来将模型的检测结果可视化，或者直接查看生成的标签文件和对应的检测结果图片。"
   ]
  },
  {
   "cell_type": "code",
   "execution_count": null,
   "metadata": {},
   "outputs": [],
   "source": []
  },
  {
   "cell_type": "code",
   "execution_count": null,
   "metadata": {},
   "outputs": [],
   "source": []
  },
  {
   "cell_type": "code",
   "execution_count": null,
   "metadata": {},
   "outputs": [],
   "source": []
  }
 ],
 "metadata": {
  "kernelspec": {
   "display_name": "Python 3",
   "language": "python",
   "name": "python3"
  },
  "language_info": {
   "codemirror_mode": {
    "name": "ipython",
    "version": 3
   },
   "file_extension": ".py",
   "mimetype": "text/x-python",
   "name": "python",
   "nbconvert_exporter": "python",
   "pygments_lexer": "ipython3",
   "version": "3.11.5"
  }
 },
 "nbformat": 4,
 "nbformat_minor": 2
}
