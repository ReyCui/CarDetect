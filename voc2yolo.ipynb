{
 "cells": [
  {
   "cell_type": "code",
   "execution_count": 2,
   "id": "ca0dc1b6-1033-44a8-b2f3-17dff6f8eeb4",
   "metadata": {
    "execution": {
     "iopub.execute_input": "2024-04-04T08:55:19.877486Z",
     "iopub.status.busy": "2024-04-04T08:55:19.877252Z",
     "iopub.status.idle": "2024-04-04T08:55:20.087159Z",
     "shell.execute_reply": "2024-04-04T08:55:20.086758Z",
     "shell.execute_reply.started": "2024-04-04T08:55:19.877469Z"
    },
    "tags": []
   },
   "outputs": [],
   "source": [
    "import json\n",
    "import os\n",
    "from pathlib import Path\n",
    "\n",
    "import requests\n",
    "import yaml\n",
    "from PIL import Image\n",
    "from tqdm import tqdm\n",
    "\n",
    "from utils import make_dirs"
   ]
  },
  {
   "cell_type": "code",
   "execution_count": 3,
   "id": "4900413f-df8c-49b3-9f13-16bb395444d9",
   "metadata": {
    "ExecutionIndicator": {
     "show": true
    },
    "execution": {
     "iopub.execute_input": "2024-04-04T08:55:20.096379Z",
     "iopub.status.busy": "2024-04-04T08:55:20.096058Z",
     "iopub.status.idle": "2024-04-04T08:55:20.099647Z",
     "shell.execute_reply": "2024-04-04T08:55:20.099164Z",
     "shell.execute_reply.started": "2024-04-04T08:55:20.096364Z"
    },
    "tags": []
   },
   "outputs": [],
   "source": [
    "def voc_to_yolo(Imgsize, box):\n",
    "    width, height = Imgsize\n",
    "    xmin, ymin, xmax, ymax = box\n",
    "    dw = max(xmin, xmax) - min(xmin, xmax)  # 框的宽\n",
    "    dh = max(ymin, ymax) - min(ymin, ymax)  # 框的高\n",
    "    x_ = (xmin + xmax) / 2.0  # 框的中心点x坐标\n",
    "    y_ = (ymin + ymax) / 2.0  # 框的中心点y坐标\n",
    "\n",
    "    # 归一化\n",
    "    cx = round(x_ / width, 6)\n",
    "    cy = round(y_ / height, 6)\n",
    "    w = round(dw / width, 6)\n",
    "    h = round(dh / height, 6)\n",
    "\n",
    "    return [cx, cy, w, h]\n"
   ]
  },
  {
   "cell_type": "code",
   "execution_count": 7,
   "id": "ca3f646f-4892-4746-9a86-1775cfa503a1",
   "metadata": {
    "ExecutionIndicator": {
     "show": false
    },
    "execution": {
     "iopub.execute_input": "2024-04-04T08:55:20.100402Z",
     "iopub.status.busy": "2024-04-04T08:55:20.100145Z",
     "iopub.status.idle": "2024-04-04T08:55:20.106374Z",
     "shell.execute_reply": "2024-04-04T08:55:20.105953Z",
     "shell.execute_reply.started": "2024-04-04T08:55:20.100387Z"
    },
    "tags": []
   },
   "outputs": [],
   "source": [
    "def convert(file, zip=True):\n",
    "    \"\"\"Converts Labelbox JSON labels to YOLO format and saves them, with optional zipping.\"\"\"\n",
    "    names = []  # class names\n",
    "    file = Path(file)\n",
    "    save_dir = make_dirs(file.stem)\n",
    "    with open(file) as f:\n",
    "        data = json.load(f)  # load JSON\n",
    "    data = data[\"annotations\"]\n",
    "    for img in tqdm(data, desc=f\"Converting {file}\"):\n",
    "        im_path = img[\"filename\"]\n",
    "        im_path = os.path.normpath(im_path).replace('\\\\', '/')\n",
    "        images_name = Path(im_path).stem\n",
    "        im = Image.open(requests.get(im_path, stream=True).raw if im_path.startswith(\"http\") else im_path)  # open\n",
    "        width, height = im.size  # image size\n",
    "        label_path = save_dir / \"labels\" / Path(images_name).with_suffix(\".txt\").name\n",
    "        image_path = save_dir / \"images\" / Path(images_name).with_suffix(\".jpg\").name\n",
    "        im.save(image_path, quality=95, subsampling=0)\n",
    "\n",
    "        \n",
    "        box = img[\"box\"]\n",
    "        if (None in box.values()):\n",
    "            continue\n",
    "        xywh = voc_to_yolo(im.size,box.values())\n",
    "\n",
    "        # class\n",
    "        cls = img[\"label\"]  # class name\n",
    "        if cls not in names:\n",
    "            names.append(cls)\n",
    "\n",
    "        line = names.index(cls), *xywh  # YOLO format (class_index, xywh)\n",
    "        with open(label_path, \"a\") as f:\n",
    "            f.write((\"%g \" * len(line)).rstrip() % line + \"\\n\")\n",
    "\n",
    "    # Save dataset.yaml\n",
    "    d = {\n",
    "        \"path\": f\"../datasets/{file.stem}  # dataset root dir\",\n",
    "        \"train\": \"images/train  # train images (relative to path) 1280*720 images\",\n",
    "        \"val\": \"images/val  # val images (relative to path) 1280*720 images\",\n",
    "        \"test\": \" # test images (optional)\",\n",
    "        \"nc\": len(names),\n",
    "        \"names\": names,\n",
    "    }  # dictionary\n",
    "\n",
    "    with open(save_dir / file.with_suffix(\".yaml\").name, \"w\") as f:\n",
    "        yaml.dump(d, f, sort_keys=False)\n",
    "\n",
    "    # Zip\n",
    "    if zip:\n",
    "        print(f\"Zipping as {save_dir}.zip...\")\n",
    "        os.system(f\"zip -qr {save_dir}.zip {save_dir}\")\n",
    "\n",
    "    print(\"Conversion completed successfully!\")"
   ]
  },
  {
   "cell_type": "code",
   "execution_count": 8,
   "id": "96ec1d5e-4ca6-45de-b0f1-48200c811fb3",
   "metadata": {
    "execution": {
     "iopub.execute_input": "2024-04-04T08:55:20.107168Z",
     "iopub.status.busy": "2024-04-04T08:55:20.106964Z",
     "iopub.status.idle": "2024-04-04T08:55:20.632145Z",
     "shell.execute_reply": "2024-04-04T08:55:20.631699Z",
     "shell.execute_reply.started": "2024-04-04T08:55:20.107154Z"
    },
    "tags": []
   },
   "outputs": [
    {
     "name": "stderr",
     "output_type": "stream",
     "text": [
      "Converting data\\train_dataset\\train.json: 100%|██████████| 22596/22596 [07:06<00:00, 53.01it/s]"
     ]
    },
    {
     "name": "stdout",
     "output_type": "stream",
     "text": [
      "Zipping as train.zip...\n",
      "Conversion completed successfully!\n"
     ]
    },
    {
     "name": "stderr",
     "output_type": "stream",
     "text": [
      "\n"
     ]
    }
   ],
   "source": [
    "convert(\"./data/train_dataset/train.json\")"
   ]
  },
  {
   "cell_type": "code",
   "execution_count": null,
   "id": "58ec2e7d",
   "metadata": {},
   "outputs": [],
   "source": []
  }
 ],
 "metadata": {
  "kernelspec": {
   "display_name": "Python 3 (ipykernel)",
   "language": "python",
   "name": "python3"
  },
  "language_info": {
   "codemirror_mode": {
    "name": "ipython",
    "version": 3
   },
   "file_extension": ".py",
   "mimetype": "text/x-python",
   "name": "python",
   "nbconvert_exporter": "python",
   "pygments_lexer": "ipython3",
   "version": "3.11.5"
  }
 },
 "nbformat": 4,
 "nbformat_minor": 5
}
