{
 "cells": [
  {
   "cell_type": "code",
   "execution_count": 9,
   "id": "ca0dc1b6-1033-44a8-b2f3-17dff6f8eeb4",
   "metadata": {
    "execution": {
     "iopub.execute_input": "2024-04-06T14:08:00.615316Z",
     "iopub.status.busy": "2024-04-06T14:08:00.614978Z",
     "iopub.status.idle": "2024-04-06T14:08:00.618118Z",
     "shell.execute_reply": "2024-04-06T14:08:00.617679Z",
     "shell.execute_reply.started": "2024-04-06T14:08:00.615296Z"
    },
    "tags": []
   },
   "outputs": [],
   "source": [
    "import json\n",
    "import os\n",
    "from pathlib import Path\n",
    "\n",
    "import requests\n",
    "import yaml\n",
    "from PIL import Image\n",
    "from tqdm import tqdm\n",
    "\n",
    "from utils import make_dirs"
   ]
  },
  {
   "cell_type": "code",
   "execution_count": 10,
   "id": "4900413f-df8c-49b3-9f13-16bb395444d9",
   "metadata": {
    "ExecutionIndicator": {
     "show": true
    },
    "execution": {
     "iopub.execute_input": "2024-04-06T14:08:02.432294Z",
     "iopub.status.busy": "2024-04-06T14:08:02.431777Z",
     "iopub.status.idle": "2024-04-06T14:08:02.439341Z",
     "shell.execute_reply": "2024-04-06T14:08:02.438085Z",
     "shell.execute_reply.started": "2024-04-06T14:08:02.432255Z"
    },
    "tags": []
   },
   "outputs": [],
   "source": [
    "def voc_to_yolo(Imgsize, box):\n",
    "    width, height = Imgsize\n",
    "    xmin, ymin, xmax, ymax = box\n",
    "    dw = max(xmin, xmax) - min(xmin, xmax)  # 框的宽\n",
    "    dh = max(ymin, ymax) - min(ymin, ymax)  # 框的高\n",
    "    x_ = (xmin + xmax) / 2.0  # 框的中心点x坐标\n",
    "    y_ = (ymin + ymax) / 2.0  # 框的中心点y坐标\n",
    "\n",
    "    # 归一化\n",
    "    cx = round(x_ / width, 6)\n",
    "    cy = round(y_ / height, 6)\n",
    "    w = round(dw / width, 6)\n",
    "    h = round(dh / height, 6)\n",
    "\n",
    "    return [cx, cy, w, h]\n"
   ]
  },
  {
   "cell_type": "code",
   "execution_count": 11,
   "id": "ca3f646f-4892-4746-9a86-1775cfa503a1",
   "metadata": {
    "ExecutionIndicator": {
     "show": true
    },
    "execution": {
     "iopub.execute_input": "2024-04-06T14:08:04.496381Z",
     "iopub.status.busy": "2024-04-06T14:08:04.496068Z",
     "iopub.status.idle": "2024-04-06T14:08:04.507927Z",
     "shell.execute_reply": "2024-04-06T14:08:04.506860Z",
     "shell.execute_reply.started": "2024-04-06T14:08:04.496363Z"
    },
    "tags": []
   },
   "outputs": [],
   "source": [
    "def convert(file,path, zip=True):\n",
    "    \"\"\"Converts Labelbox JSON labels to YOLO format and saves them, with optional zipping.\"\"\"\n",
    "    names = []  # class names\n",
    "    file = Path(file)\n",
    "    save_dir = make_dirs(file.stem)\n",
    "    with open(file) as f:\n",
    "        data = json.load(f)  # load JSON\n",
    "    data = data[\"annotations\"]\n",
    "    for img in tqdm(data, desc=f\"Converting {file}\"):\n",
    "        im_path = path+\"/\"+img[\"filename\"]\n",
    "        im_path = os.path.normpath(im_path).replace('\\\\', '/')\n",
    "        images_name = Path(im_path).stem\n",
    "        im = Image.open(requests.get(im_path, stream=True).raw if im_path.startswith(\"http\") else im_path)  # open\n",
    "        width, height = im.size  # image size\n",
    "        label_path = save_dir / \"labels\" / Path(images_name).with_suffix(\".txt\").name\n",
    "        image_path = save_dir / \"images\" / Path(images_name).with_suffix(\".jpg\").name\n",
    "        im.save(image_path, quality=95, subsampling=0)\n",
    "\n",
    "        \n",
    "        box = img[\"box\"]\n",
    "        if (None in box.values()):\n",
    "            continue\n",
    "        xywh = voc_to_yolo(im.size,box.values())\n",
    "\n",
    "        # class\n",
    "        cls = img[\"label\"]  # class name\n",
    "        if cls not in names:\n",
    "            names.append(cls)\n",
    "\n",
    "        line = names.index(cls), *xywh  # YOLO format (class_index, xywh)\n",
    "        with open(label_path, \"a\") as f:\n",
    "            f.write((\"%g \" * len(line)).rstrip() % line + \"\\n\")\n",
    "\n",
    "    # Save dataset.yaml\n",
    "    d = {\n",
    "        \"path\": f\"../datasets/{file.stem}  # dataset root dir\",\n",
    "        \"train\": \"images/train  # train images (relative to path) 1280*720 images\",\n",
    "        \"val\": \"images/val  # val images (relative to path) 1280*720 images\",\n",
    "        \"test\": \" # test images (optional)\",\n",
    "        \"nc\": len(names),\n",
    "        \"names\": names,\n",
    "    }  # dictionary\n",
    "\n",
    "    with open(save_dir / file.with_suffix(\".yaml\").name, \"w\") as f:\n",
    "        yaml.dump(d, f, sort_keys=False)\n",
    "\n",
    "    # Zip\n",
    "    if zip:\n",
    "        print(f\"Zipping as {save_dir}.zip...\")\n",
    "        os.system(f\"zip -qr {save_dir}.zip {save_dir}\")\n",
    "\n",
    "    print(\"Conversion completed successfully!\")"
   ]
  },
  {
   "cell_type": "code",
   "execution_count": 8,
   "id": "96ec1d5e-4ca6-45de-b0f1-48200c811fb3",
   "metadata": {
    "ExecutionIndicator": {
     "show": false
    },
    "execution": {
     "iopub.execute_input": "2024-04-06T14:03:24.467183Z",
     "iopub.status.busy": "2024-04-06T14:03:24.466864Z",
     "iopub.status.idle": "2024-04-06T14:03:24.915554Z",
     "shell.execute_reply": "2024-04-06T14:03:24.914767Z",
     "shell.execute_reply.started": "2024-04-06T14:03:24.467164Z"
    },
    "tags": []
   },
   "outputs": [
    {
     "name": "stderr",
     "output_type": "stream",
     "text": [
      "Converting data/train_dataset/train.json:   0%|          | 0/22596 [00:00<?, ?it/s]\n"
     ]
    },
    {
     "ename": "FileNotFoundError",
     "evalue": "[Errno 2] No such file or directory: 'train_images/00002.jpg'",
     "output_type": "error",
     "traceback": [
      "\u001b[0;31m---------------------------------------------------------------------------\u001b[0m",
      "\u001b[0;31mFileNotFoundError\u001b[0m                         Traceback (most recent call last)",
      "Cell \u001b[0;32mIn[8], line 1\u001b[0m\n\u001b[0;32m----> 1\u001b[0m \u001b[43mconvert\u001b[49m\u001b[43m(\u001b[49m\u001b[38;5;124;43m\"\u001b[39;49m\u001b[38;5;124;43m./data/train_dataset/train.json\u001b[39;49m\u001b[38;5;124;43m\"\u001b[39;49m\u001b[43m)\u001b[49m\n",
      "Cell \u001b[0;32mIn[7], line 13\u001b[0m, in \u001b[0;36mconvert\u001b[0;34m(file, zip)\u001b[0m\n\u001b[1;32m     11\u001b[0m im_path \u001b[38;5;241m=\u001b[39m os\u001b[38;5;241m.\u001b[39mpath\u001b[38;5;241m.\u001b[39mnormpath(im_path)\u001b[38;5;241m.\u001b[39mreplace(\u001b[38;5;124m'\u001b[39m\u001b[38;5;130;01m\\\\\u001b[39;00m\u001b[38;5;124m'\u001b[39m, \u001b[38;5;124m'\u001b[39m\u001b[38;5;124m/\u001b[39m\u001b[38;5;124m'\u001b[39m)\n\u001b[1;32m     12\u001b[0m images_name \u001b[38;5;241m=\u001b[39m Path(im_path)\u001b[38;5;241m.\u001b[39mstem\n\u001b[0;32m---> 13\u001b[0m im \u001b[38;5;241m=\u001b[39m \u001b[43mImage\u001b[49m\u001b[38;5;241;43m.\u001b[39;49m\u001b[43mopen\u001b[49m\u001b[43m(\u001b[49m\u001b[43mrequests\u001b[49m\u001b[38;5;241;43m.\u001b[39;49m\u001b[43mget\u001b[49m\u001b[43m(\u001b[49m\u001b[43mim_path\u001b[49m\u001b[43m,\u001b[49m\u001b[43m \u001b[49m\u001b[43mstream\u001b[49m\u001b[38;5;241;43m=\u001b[39;49m\u001b[38;5;28;43;01mTrue\u001b[39;49;00m\u001b[43m)\u001b[49m\u001b[38;5;241;43m.\u001b[39;49m\u001b[43mraw\u001b[49m\u001b[43m \u001b[49m\u001b[38;5;28;43;01mif\u001b[39;49;00m\u001b[43m \u001b[49m\u001b[43mim_path\u001b[49m\u001b[38;5;241;43m.\u001b[39;49m\u001b[43mstartswith\u001b[49m\u001b[43m(\u001b[49m\u001b[38;5;124;43m\"\u001b[39;49m\u001b[38;5;124;43mhttp\u001b[39;49m\u001b[38;5;124;43m\"\u001b[39;49m\u001b[43m)\u001b[49m\u001b[43m \u001b[49m\u001b[38;5;28;43;01melse\u001b[39;49;00m\u001b[43m \u001b[49m\u001b[43mim_path\u001b[49m\u001b[43m)\u001b[49m  \u001b[38;5;66;03m# open\u001b[39;00m\n\u001b[1;32m     14\u001b[0m width, height \u001b[38;5;241m=\u001b[39m im\u001b[38;5;241m.\u001b[39msize  \u001b[38;5;66;03m# image size\u001b[39;00m\n\u001b[1;32m     15\u001b[0m label_path \u001b[38;5;241m=\u001b[39m save_dir \u001b[38;5;241m/\u001b[39m \u001b[38;5;124m\"\u001b[39m\u001b[38;5;124mlabels\u001b[39m\u001b[38;5;124m\"\u001b[39m \u001b[38;5;241m/\u001b[39m Path(images_name)\u001b[38;5;241m.\u001b[39mwith_suffix(\u001b[38;5;124m\"\u001b[39m\u001b[38;5;124m.txt\u001b[39m\u001b[38;5;124m\"\u001b[39m)\u001b[38;5;241m.\u001b[39mname\n",
      "File \u001b[0;32m/opt/conda/lib/python3.10/site-packages/PIL/Image.py:3247\u001b[0m, in \u001b[0;36mopen\u001b[0;34m(fp, mode, formats)\u001b[0m\n\u001b[1;32m   3244\u001b[0m     filename \u001b[38;5;241m=\u001b[39m fp\n\u001b[1;32m   3246\u001b[0m \u001b[38;5;28;01mif\u001b[39;00m filename:\n\u001b[0;32m-> 3247\u001b[0m     fp \u001b[38;5;241m=\u001b[39m \u001b[43mbuiltins\u001b[49m\u001b[38;5;241;43m.\u001b[39;49m\u001b[43mopen\u001b[49m\u001b[43m(\u001b[49m\u001b[43mfilename\u001b[49m\u001b[43m,\u001b[49m\u001b[43m \u001b[49m\u001b[38;5;124;43m\"\u001b[39;49m\u001b[38;5;124;43mrb\u001b[39;49m\u001b[38;5;124;43m\"\u001b[39;49m\u001b[43m)\u001b[49m\n\u001b[1;32m   3248\u001b[0m     exclusive_fp \u001b[38;5;241m=\u001b[39m \u001b[38;5;28;01mTrue\u001b[39;00m\n\u001b[1;32m   3250\u001b[0m \u001b[38;5;28;01mtry\u001b[39;00m:\n",
      "\u001b[0;31mFileNotFoundError\u001b[0m: [Errno 2] No such file or directory: 'train_images/00002.jpg'"
     ]
    }
   ],
   "source": [
    "convert(\"./data/train_dataset/train.json\",\"./data/train_dataset\")"
   ]
  }
 ],
 "metadata": {
  "kernelspec": {
   "display_name": "Python 3 (ipykernel)",
   "language": "python",
   "name": "python3"
  },
  "language_info": {
   "codemirror_mode": {
    "name": "ipython",
    "version": 3
   },
   "file_extension": ".py",
   "mimetype": "text/x-python",
   "name": "python",
   "nbconvert_exporter": "python",
   "pygments_lexer": "ipython3",
   "version": "3.10.13"
  }
 },
 "nbformat": 4,
 "nbformat_minor": 5
}
