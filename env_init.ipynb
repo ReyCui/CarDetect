{
 "cells": [
  {
   "cell_type": "markdown",
   "id": "393dc9f8-3557-4026-a995-af355cbedc32",
   "metadata": {},
   "source": [
    "### 环境初始化"
   ]
  },
  {
   "cell_type": "markdown",
   "id": "9349e639-5323-44c7-a3cc-60f80a7e569e",
   "metadata": {},
   "source": [
    "- # Streamlit\n",
    "Streamlit是一个免费的开源框架，用于快速构建和共享漂亮的机器学习和数据科学Web应用程序。它是一个基于Python的\n",
    "库，专为机器学习工程师设计。数据科学家或机器学习工程师不是网络开发人员，他们对花几周时间学习使用这些框架来\n",
    "构建网络应用程序不感兴趣。相反，他们需要一个更容易学习和使用的工具，只要它可以显示数据并收集建模所需的参\n",
    "数。Streamlit允许您仅用几行代码创建一个外观惊艳的应用程序。"
   ]
  },
  {
   "cell_type": "code",
   "execution_count": null,
   "id": "b782303b-0afe-429f-9a00-725677963b55",
   "metadata": {
    "tags": []
   },
   "outputs": [],
   "source": [
    "! pip install streamlit"
   ]
  },
  {
   "cell_type": "markdown",
   "id": "e35d4984-9ec5-4544-96d9-9cbddfad4258",
   "metadata": {},
   "source": [
    "- # Ultralytics\n",
    "YOLOv8是Ultralytics公司推出的基于对象检测模型的YOLO最新系列，它能够提供截至目前最先进的对象检测性能。<br>\n",
    "借助于以前的YOLO模型版本支持技术，YOLOv8模型运行得更快、更准确，同时为执行任务的训练模型提供了统一的框架，这包括：<br>\n",
    "目标检测 <br>\n",
    "实例分割 <br>\n",
    "图像分类 <br>\n",
    "在撰写本文时，Ultralytics的YOLOv8存储库中其实还有很多功能有待添加，这包括训练模型的整套导出功能等。此外，Ultralytics将计划在Arxiv上发布一篇相关的论文，将对YOLOv8与其他最先进的视觉模型进行比较。"
   ]
  },
  {
   "cell_type": "code",
   "execution_count": null,
   "id": "0a4ba00b-3a20-4ab9-9c64-5b4c92bdada9",
   "metadata": {
    "tags": []
   },
   "outputs": [],
   "source": [
    "! pip install ultralytics"
   ]
  }
 ],
 "metadata": {
  "kernelspec": {
   "display_name": "Python 3 (ipykernel)",
   "language": "python",
   "name": "python3"
  },
  "language_info": {
   "codemirror_mode": {
    "name": "ipython",
    "version": 3
   },
   "file_extension": ".py",
   "mimetype": "text/x-python",
   "name": "python",
   "nbconvert_exporter": "python",
   "pygments_lexer": "ipython3",
   "version": "3.10.13"
  }
 },
 "nbformat": 4,
 "nbformat_minor": 5
}
